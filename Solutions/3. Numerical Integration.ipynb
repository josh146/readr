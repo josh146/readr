{
 "cells": [
  {
   "cell_type": "markdown",
   "metadata": {},
   "source": [
    "![title](https://i.imgur.com/4MEoMNd.png)\n",
    "![image](https://imgs.xkcd.com/comics/integration_by_parts.png)"
   ]
  },
  {
   "cell_type": "code",
   "execution_count": 1,
   "metadata": {
    "collapsed": true
   },
   "outputs": [],
   "source": [
    "import numpy as np\n",
    "import matplotlib.pyplot as plt\n",
    "%matplotlib inline"
   ]
  },
  {
   "cell_type": "code",
   "execution_count": 2,
   "metadata": {
    "collapsed": false
   },
   "outputs": [
    {
     "data": {
      "text/html": [
       "<style>.bs-callout{padding:20px;margin:20px 0;border:1px solid #eee;border-left-width:5px;border-radius:3px}.bs-callout h4{margin-top:0;margin-bottom:5px}.bs-callout p:last-child{margin-bottom:0}.bs-callout code{border-radius:3px}.bs-callout+.bs-callout{margin-top:-5px}.bs-callout-default{border-left-color:#777}.bs-callout-default h4{color:#777}.bs-callout-primary{border-left-color:#428bca; background-color:#e1ecff }.bs-callout-primary h4{color:#428bca}.bs-callout-success{border-left-color:#5cb85c; background-color: #e1ffe5 }.bs-callout-success h4{color:#5cb85c}.bs-callout-danger{border-left-color:#d9534f; background-color: #ffe1e1 }.bs-callout-danger h4{color:#d9534f}.bs-callout-warning{border-left-color:#f0ad4e}.bs-callout-warning h4{color:#f0ad4e}.bs-callout-info{border-left-color:#5bc0de}.bs-callout-info h4{color:#5bc0de}</style>"
      ],
      "text/plain": [
       "<IPython.core.display.HTML object>"
      ]
     },
     "metadata": {},
     "output_type": "display_data"
    }
   ],
   "source": [
    "%%html\n",
    "<style>.bs-callout{padding:20px;margin:20px 0;border:1px solid #eee;border-left-width:5px;border-radius:3px}.bs-callout h4{margin-top:0;margin-bottom:5px}.bs-callout p:last-child{margin-bottom:0}.bs-callout code{border-radius:3px}.bs-callout+.bs-callout{margin-top:-5px}.bs-callout-default{border-left-color:#777}.bs-callout-default h4{color:#777}.bs-callout-primary{border-left-color:#428bca; background-color:#e1ecff }.bs-callout-primary h4{color:#428bca}.bs-callout-success{border-left-color:#5cb85c; background-color: #e1ffe5 }.bs-callout-success h4{color:#5cb85c}.bs-callout-danger{border-left-color:#d9534f; background-color: #ffe1e1 }.bs-callout-danger h4{color:#d9534f}.bs-callout-warning{border-left-color:#f0ad4e}.bs-callout-warning h4{color:#f0ad4e}.bs-callout-info{border-left-color:#5bc0de}.bs-callout-info h4{color:#5bc0de}</style>"
   ]
  },
  {
   "cell_type": "markdown",
   "metadata": {},
   "source": [
    "# Numerical Integration\n",
    "\n",
    "Over the previous two notebooks, we have slowly built up the numerical tools we need in order to solve the Schrodinger equation in one dimension (finite-difference methods, root finding) as well as undertaking a crash course in all things Python (including functions and arrays). However, there is one tool we're missing. When it comes to normalising our disctretized wavefunction solutions,\n",
    "\n",
    "$$\\left\\langle\\psi\\middle|\\psi\\right\\rangle = \\int_{-\\infty}^{\\infty} \\psi(x)^*\\psi(x)~dx$$\n",
    "\n",
    "...how exactly are we meant to compute the integral?\n",
    "\n",
    "If you haven't already guessed by the name of this notebook, the answer lies in the technique of numerical integration (surprise!).\n",
    "\n",
    "Aside from calculating the integral of discretized functions, numerical integration can also be used to approximate integrals without analytic solutions, and in cases where the integrand (the function being integrated) itself does not have a known analytic form. In this notebook, we'll explore some common methods of numerical integration."
   ]
  },
  {
   "cell_type": "markdown",
   "metadata": {
    "collapsed": true
   },
   "source": [
    "# The Trapezoidal approximation\n",
    "\n",
    "Consider the definite integral over an infinitesimal domain:\n",
    "\n",
    "\\begin{align}\n",
    "\t\\int_{x}^{x+\\delta x} f(\\xi)~d\\xi, ~~~~ \\delta x \\ll 1\n",
    "\\end{align}\n",
    "\n",
    "By defining $F(\\xi)=\\int f(\\xi)~d\\xi$ as the antiderivative of function $f(\\xi)$ (and equivalently, $F'(\\xi)=f(\\xi)$), we can now compute the integral *symbolically*:\n",
    "\n",
    "\\begin{align}\n",
    "\t\\int_{x}^{x+\\delta x} f(\\xi)~d\\xi = \\left[ F(\\xi) \\right]_{x}^{x+\\delta x} =  F(x+\\delta x)-F(x)\n",
    "\\end{align}\n",
    "\n",
    "But that doesn't really help us if we don't know the antiderivative $F(\\xi)$, let alone the integrand $f(\\xi)$! To see how we might work with this result, we're going to have to revisit our favourite tool, the Taylor series, and make a small mathematical detour.\n",
    "\n",
    "## Taylor series interpretation\n",
    "\n",
    "To see how we might **approximate** this, let's have a go taking the Taylor series expansion of the integral around $\\delta x$:\n",
    "\n",
    "\\begin{align*}\n",
    "\t\\int_{x}^{x+\\delta x} f(\\xi)~d\\xi &= F(x+\\delta x)-F(x)\\\\\n",
    "\t& = \\left[F(x) + \\delta x F'(x) + \\frac{1}{2}\\delta x^2 F''(x) + \\frac{1}{6}\\delta x^3 F'''(x) + O(\\delta x^4)\\right] -F(x)\\\\\n",
    "\t& = \\delta x f(x) + \\frac{1}{2}\\delta x^2 f'(x) + \\frac{1}{6}\\delta x^3 f''(x) + O(\\delta x^4)\n",
    "\\end{align*}\n",
    "\n",
    "where we have made use of the previous relation $F'(\\xi)=f(\\xi)$.\n",
    "\n",
    "If we factor out $\\delta x/2$, we get\n",
    "\n",
    "\\begin{align}\n",
    "\t\\int_{x}^{x+\\delta x} f(\\xi)~d\\xi &= \\frac{1}{2}\\delta x\\left[2f(x) + \\delta x f'(x) + \\frac{1}{3}\\delta x^2 f''(x) + O(\\delta x^3)\\right]\n",
    "\\end{align}\n",
    "\n",
    "The trick here is to notice that the bracketed term is similar (but not exactly the same) as the Taylor expansion of $f(x)+f(x+\\delta x)$:\n",
    "\\begin{align*}\n",
    "\tf(x)+f(x+\\delta x) = 2f(x)+\\delta x f'(x) + \\frac{1}{6}\\delta x^2 f''(x) + O(\\delta x^3)\n",
    "\\end{align*}\n",
    "\n",
    "We can therefore make the following approximation to the integral:\n",
    "\n",
    "\\begin{align}\n",
    "\t\\boxed{\\int_{x}^{x+\\delta x} f(\\xi)~d\\xi \\approx \\frac{1}{2}\\delta x\\left[f(x)+f(x+\\delta x)\\right]}\n",
    "\\end{align}\n",
    "\n",
    "Comparing the Taylor series of both sides, we can see that the inherent error of this approximation is of order $\\mathcal{O}(\\delta x^3)$, or more accurately\n",
    "\n",
    "\\begin{align}\n",
    "\t\\text{local error}=-\\frac{1}{12}\\delta x^3 f''(x)\n",
    "\\end{align}\n",
    "\n",
    "This is refered to as the **local trapezoidal error**."
   ]
  },
  {
   "cell_type": "markdown",
   "metadata": {},
   "source": [
    "---\n",
    "<div class=\"alert alert-info\">\n",
    "**Problem 1:**\n",
    "<br>\n",
    "Consider the integral $$\\int_x^{x+\\delta x} \\sin^2\\left(\\frac{x}{2}\\right)~dx = \\frac{1}{2}(\\delta x+\\sin(\\delta x)-\\sin(x+\\delta x))$$\n",
    "<br>\n",
    "Apply the trapezoidal approximation (eq. 4) to the left hand integral at the point $x=4$, and compare it to the right hand exact solution for various values of $\\delta x$.\n",
    "<br><br>\n",
    "How small do you have to make $\\delta x$ before you get a reasonably accurate result?\n",
    "</div>"
   ]
  },
  {
   "cell_type": "code",
   "execution_count": 6,
   "metadata": {
    "collapsed": false
   },
   "outputs": [
    {
     "name": "stdout",
     "output_type": "stream",
     "text": [
      "[(0.001, 2.7219523726987327e-11), (0.01, 2.707707615935695e-08), (0.1, 2.5618693318976704e-05), (0.2, 0.00019141644261438939), (0.5, 0.0023088836417854419), (1, 0.0085655308275085495)]\n"
     ]
    }
   ],
   "source": [
    "def solnExact(x, dx):\n",
    "    return 0.5*(dx+np.sin(x)-np.sin(x+dx))\n",
    "    \n",
    "def trapezoid(x, dx):\n",
    "    return 0.5*dx*(np.sin(x/2)**2+np.sin((x+dx)/2)**2)\n",
    "\n",
    "dx = [0.001, 0.01, 0.1, 0.2, 0.5, 1]\n",
    "\n",
    "res = [(i,np.abs(trapezoid(4,i)-solnExact(4, i))) for i in dx]\n",
    "print(res)"
   ]
  },
  {
   "cell_type": "code",
   "execution_count": 7,
   "metadata": {
    "collapsed": false
   },
   "outputs": [
    {
     "data": {
      "text/plain": [
       "[<matplotlib.lines.Line2D at 0x7f80496542e8>]"
      ]
     },
     "execution_count": 7,
     "metadata": {},
     "output_type": "execute_result"
    },
    {
     "data": {
      "image/png": "[encoded data removed]",
      "text/plain": [
       "<matplotlib.figure.Figure at 0x7f8049654a58>"
      ]
     },
     "metadata": {},
     "output_type": "display_data"
    }
   ],
   "source": [
    "plt.xlabel('$\\delta x$')\n",
    "plt.ylabel('$|E|$')\n",
    "plt.plot(*zip(*res))"
   ]
  },
  {
   "cell_type": "markdown",
   "metadata": {},
   "source": [
    "## Geometric interpretation\n",
    "\n",
    "Using Taylor series expansions helps with deriving the approximation and calculating the local error, but it also helps to consider the **geometric interpretation** of the trapezoidal method.\n",
    "\n",
    "First off, have a look at the figure below:\n",
    "\n",
    "![image](https://i.imgur.com/0XcAsSA.png)\n",
    "\n",
    "The area under the curve, between the two points $f(x)$ and $f(x+\\delta x)$, has been approximated by drawing vertical lines to the $x$-axis, and approximating the area via a trapezoid/trapezium:\n",
    "\n",
    "$$\\text{Area} = \\frac{1}{2}\\delta x[f(x)+f(x+\\delta x)]$$\n",
    "\n",
    "You may be surprised (or maybe not!) to notice that the area of the trapezium is exactly the same as the trapezoidal approximation we derived above - hence the name.\n",
    "\n",
    "Essentially, what we are doing here is approximating the integral by integrating over a **linear interpolation between the boundary points**.\n",
    "\n",
    "<br>\n",
    "<div class=\"alert alert-success\">\n",
    "**Note:**\n",
    "<br>\n",
    "You may notice in the image above that the trapezoidal approximation is *under-estimating* the integral; this is because the example integrand is **concave down** (i.e. $f''(x_0)<0$) over the infinitesimal integration domain.\n",
    "<br><br>\n",
    "Analytically, a negative second derivative substituted into the trapezoidal approximation results in $$\\text{error}=+\\frac{1}{12}\\delta x^3 f''(x_0)$$ a *positive* difference, and we can estimate the deviation from the exact solution.\n",
    "<br><br>\n",
    "On the other hand, if $f(x)$ was **concave up** ($f''(x_0)>0$) over the integration domain, we can easily see that the trapezoidal method would *over-estimate* the integral.\n",
    "</div>"
   ]
  },
  {
   "cell_type": "markdown",
   "metadata": {
    "collapsed": true
   },
   "source": [
    "## Composite trapezoidal rule \n",
    "\n",
    "Everything we have done so far has assumed an **infinitesimal** domain, with $\\delta x\\ll 1$ - not a situation we usually encounter when dealing with integrals! In practice, when we need  we end up working with integrands with significant or even unknown variation between boundary points.\n",
    "\n",
    "For example, consider integrating over a function $f(x)$ from $x=a$ to $x=b$. We could apply the trapezoidal approximation, with $\\Delta x = b-a$,\n",
    "\n",
    "\\begin{align}\n",
    "\t\\int_a^b f(x) dx\\approx \\frac{1}{2}(b-a)[f(a)+f(b)]\n",
    "\\end{align}\n",
    "\n",
    "however you can probably see that is a *terrible* approximation -- we are simply drawing a straight line between points $f(a)$ to $f(b)$ and integrating under it, ignoring any regions of non-linearities (for example oscillations). \n",
    "\n",
    "Instead, a better approximation is to break up the region $[a,b]$ into $N$ equally spaced intervals of size $\\Delta x$, and apply the trapezoidal rule locally to each interval before summing the results:\n",
    "\n",
    "\n",
    "\\begin{align*}\n",
    "\t\\int_a^b f(x) dx&\\approx \\frac{1}{2}\\Delta x\\left\\{[f(a)+f(a+\\Delta x)]+ [f(a+\\Delta x)+f(a+2\\Delta x)]+ \\cdots + [f(a+(N-1)\\Delta x)+f(b)]\\right\\}\n",
    "\\end{align*}\n",
    "\n",
    "\n",
    "![image](https://i.imgur.com/4SN9ufv.png?1)\n",
    "\n",
    "Rewritten using a summation,\n",
    "\n",
    "\\begin{align}\n",
    "\t\\boxed{\\int_a^b f(x) dx\\approx\\frac{1}{2}\\Delta x \\sum_{n=0}^{N-1} \\left[ f(a+n\\Delta x) + f(a+(n+1)\\Delta x)\\right] }\n",
    "\\end{align}\n",
    "\n",
    "This is the **composite trapezoidal rule**."
   ]
  },
  {
   "cell_type": "markdown",
   "metadata": {},
   "source": [
    "---"
   ]
  },
  {
   "cell_type": "markdown",
   "metadata": {},
   "source": [
    "<div class=\"alert alert-info\">\n",
    "**Problem 2:**\n",
    "<br>\n",
    "<ol>\n",
    "<li>Calculate the integral $$\\int_0^1(1+2\\cos(2\\sqrt{x}))~dx$$ using the composite trapezoidal method.</li>\n",
    "<br>\n",
    "<li>Calculate the exact solution to the integral in (1), and use this result to analyse and compare the error in your numerical approximation for various values of $\\Delta x$. <br> How does the error scale as $\\Delta x$ changes?</li>\n",
    "</ol>\n",
    "</div>"
   ]
  },
  {
   "cell_type": "code",
   "execution_count": 60,
   "metadata": {
    "collapsed": true
   },
   "outputs": [],
   "source": [
    "def integrateT(f, a, b, dx):\n",
    "    N = int((b-a)/dx+1)\n",
    "    return 0.5*dx*sum([f(a + n*dx) + f(a+(n+1)*dx) for n in range(N-1)])\n",
    "\n",
    "# def integrateT(f, a, b, dx):\n",
    "#     x = np.arange(a,b+dx,dx)\n",
    "#     xgrid = np.dstack((x[:-1],np.roll(x,-1)[:-1]))[0]\n",
    "#     return 0.5*dx*sum([f(x[0]) + f(x[1]) for x in xgrid])"
   ]
  },
  {
   "cell_type": "code",
   "execution_count": 59,
   "metadata": {
    "collapsed": false
   },
   "outputs": [
    {
     "data": {
      "text/plain": [
       "1.4024481988879836"
      ]
     },
     "execution_count": 59,
     "metadata": {},
     "output_type": "execute_result"
    }
   ],
   "source": [
    "integrateT(lambda x: 1+2*np.cos(2*np.sqrt(x)), 0, 1, 0.001)"
   ]
  },
  {
   "cell_type": "code",
   "execution_count": 75,
   "metadata": {
    "collapsed": true
   },
   "outputs": [],
   "source": [
    "def error(dx):\n",
    "    exact = 2*np.sin(2)+np.cos(2)\n",
    "    tr = integrateT(lambda x: 1+2*np.cos(2*np.sqrt(x)), 0, 1, dx)\n",
    "    return np.abs((tr-exact)/exact)"
   ]
  },
  {
   "cell_type": "code",
   "execution_count": 78,
   "metadata": {
    "collapsed": false
   },
   "outputs": [],
   "source": [
    "dx = [10**i for i in range(-4,1)]\n",
    "results = [error(i) for i in dx]"
   ]
  },
  {
   "cell_type": "code",
   "execution_count": 79,
   "metadata": {
    "collapsed": false
   },
   "outputs": [
    {
     "data": {
      "text/plain": [
       "[<matplotlib.lines.Line2D at 0x7f390d7ef160>]"
      ]
     },
     "execution_count": 79,
     "metadata": {},
     "output_type": "execute_result"
    },
    {
     "data": {
      "image/png": "[encoded data removed]",
      "text/plain": [
       "<matplotlib.figure.Figure at 0x7f390d8a5e80>"
      ]
     },
     "metadata": {},
     "output_type": "display_data"
    }
   ],
   "source": [
    "plt.loglog(dx,results, marker='.')"
   ]
  },
  {
   "cell_type": "markdown",
   "metadata": {},
   "source": [
    "## Global error\n",
    "\n",
    "Earlier, we considered the local error in the trapezoidal method for an infinitesimal domain - but what is the global error of the trapezoidal method?\n",
    "\n",
    "Recall that the error term for the trapezoidal approximation depends on $f''(x)$, and this will differ for each of the $N$ intervals we are considering. So instead of computing the error term directly, we can deduce an upper bound for the total error.\n",
    "\n",
    "\n",
    "Suppose that, over $a\\leq x\\leq b$, the maximum absolute value of $f''(x)$ is $M_2$ -- that is $|f''(x)|\\leq M_2$.\n",
    "\n",
    "Further, since the trapezoidal approximation is being applied $N$ times, the total error $E_T$ is bounded by\n",
    "\n",
    "\\begin{align}\n",
    "\t|E_T| \\leq N\\times \\frac{1}{12}\\Delta x^3 M_2\n",
    "\\end{align} \n",
    "\n",
    "Since $N=(b-a)/\\Delta x$, this becomes\n",
    "\n",
    "\\begin{align}\n",
    "\t\\boxed{|E_T| \\leq \\frac{b-a}{12}\\Delta x^2 M_2}\n",
    "\\end{align}\n",
    "\n",
    "We can now also see that the total error will scale quadratically with $\\Delta x^2$; i.e. the trapezoidal rule is a **second order method**.\n",
    "\n",
    "---\n",
    "<div class=\"alert alert-warning\">\n",
    "**Example 3:**\n",
    "<br>\n",
    "Calculate the upper bound global error $|E_T|$ of the trapezoidal method for the integrand in Problem 2.\n",
    "<br>\n",
    "How does this result compare with your previous error analysis?\n",
    "</div>"
   ]
  },
  {
   "cell_type": "markdown",
   "metadata": {},
   "source": [
    "Let's set the values for $x$ and $dx$, and define $y$ over this grid. Then, we can use `numpy.gradient` to calculate the finite-difference approximation to the second derivative: \n",
    "\n",
    "*Note: alternatively, you can calculate the second derivative by hand*"
   ]
  },
  {
   "cell_type": "code",
   "execution_count": 27,
   "metadata": {
    "collapsed": true
   },
   "outputs": [],
   "source": [
    "dx = 0.01\n",
    "x = np.arange(0, 1+dx, dx)\n",
    "y = 1+2*np.cos(2*np.sqrt(x))\n",
    "\n",
    "dy = np.gradient(y,x, edge_order=2)\n",
    "d2y = np.gradient(dy,x,edge_order=2)"
   ]
  },
  {
   "cell_type": "code",
   "execution_count": 34,
   "metadata": {
    "collapsed": false
   },
   "outputs": [
    {
     "data": {
      "text/plain": [
       "<matplotlib.legend.Legend at 0x7f796331a9e8>"
      ]
     },
     "execution_count": 34,
     "metadata": {},
     "output_type": "execute_result"
    },
    {
     "data": {
      "image/png": "[encoded data removed]",
      "text/plain": [
       "<matplotlib.figure.Figure at 0x7f7963339d30>"
      ]
     },
     "metadata": {},
     "output_type": "display_data"
    }
   ],
   "source": [
    "plt.plot(x,y)\n",
    "plt.plot(x,dy)\n",
    "plt.plot(x,d2y)\n",
    "plt.legend(['$f(x)$',\"$f'(x)$\", \"$f''(x)$\"])"
   ]
  },
  {
   "cell_type": "markdown",
   "metadata": {},
   "source": [
    "The second derivative of the integrand has a maximum at the point $x=0$: "
   ]
  },
  {
   "cell_type": "code",
   "execution_count": 30,
   "metadata": {
    "collapsed": false
   },
   "outputs": [],
   "source": [
    "M2 = d2y[0]"
   ]
  },
  {
   "cell_type": "code",
   "execution_count": 32,
   "metadata": {
    "collapsed": false
   },
   "outputs": [
    {
     "name": "stdout",
     "output_type": "stream",
     "text": [
      "2.21556085007e-05\n"
     ]
    }
   ],
   "source": [
    "Et = (1-0) * dx**2 * M2 / 12\n",
    "print(Et)"
   ]
  },
  {
   "cell_type": "markdown",
   "metadata": {},
   "source": [
    "From the previous plot, you can see that $\\Delta x=0.01$ approximately gives an error of $\\sim 10^{-5}$, so this seems pretty accurate!"
   ]
  },
  {
   "cell_type": "markdown",
   "metadata": {},
   "source": [
    "# The Midpoint Rule\n",
    "\n",
    "Let's return to the definite integral over an infinitesimal domain, but this time shift the integration limits like so:\n",
    "\n",
    "\\begin{align}\n",
    "\t\\int_{x_0-\\delta x/2}^{x_0+\\delta x/2} f(\\xi)~d\\xi\n",
    "\\end{align}\n",
    "\n",
    "Repeating our analysis of the previous section, taking the Taylor series around variable $\\delta x$, we find\n",
    "\n",
    "\\begin{align}\n",
    "\t\\int_{x_0-\\delta x/2}^{x_0+\\delta x/2} f(\\xi)~d\\xi = \\delta x f(x_0) +\\frac{1}{24} \\delta x^3 f''(x_0) +\\mathcal{O}\\left(\\delta x^4\\right)\n",
    "\\end{align}\n",
    "\n",
    "Comparing this to what we saw with the trapezoidal approximation, notice that the $f'(x_0)$ term vanishes; therefore we can make the so-called **midpoint approximation**,\n",
    "\n",
    "\\begin{align}\n",
    "\t\\int_{x_0-\\delta x/2}^{x_0+\\delta x/2} f(\\xi)~d\\xi \\approx f(x_0)\\delta x,\n",
    "\\end{align}\n",
    "\n",
    "named as such as we are now approximating the integral by integrating over the **constant** value of $f(x)$ evaluated at the *midpoint* of the domain -- i.e. essentially approximating the area under the curve via a **rectangle**:\n",
    "\n",
    "![image](https://i.imgur.com/P8pW84g.png)\n",
    "\n",
    "This approximation, which is significantly simpler than the trapezoidal approximation, is still accurate to order $\\mathcal{O}(\\delta x^3)$!\n",
    "\n",
    "In fact, if we compare the error terms explicitly, the **local midpoint error** is \n",
    "\n",
    "\\begin{align}\n",
    "\t\\mathrm{local error}= \\frac{1}{24} \\delta x^3 f''(x),\n",
    "\\end{align}\n",
    "\n",
    "Exactly half the value of the trapezoidal local error!\n",
    "\n",
    "However, as before, we need to repeat or **composite** the mid-point approximation $N$ times over a non-infinitesimal interval in order to accurately approximate the integral,\n",
    "\n",
    "\\begin{align*}\n",
    "\t\\int_a^b f(x)~dx &\\approx \\Delta x f\\left(a+\\Delta x/2\\right)+ \\Delta x f\\left(a+\\Delta x/2+\\Delta x\\right) + \\cdots+ \\Delta x f\\left(a+\\Delta x/2+(N-1)\\Delta x\\right)\n",
    "\\end{align*}\n",
    "\n",
    "\n",
    "This gives rise to the **midpoint rule**:\n",
    "\n",
    "\\begin{align}\n",
    "\t\\boxed{\\int_a^b f(x)~dx \\approx \\Delta x \\sum_{n=0}^{N-1}f\\left(a+(n-\\frac{1}{2})\\Delta x\\right)}\n",
    "\\end{align}\n",
    "\n",
    "<br>\n",
    "<div class=\"alert alert-success\">\n",
    "**Note:**\n",
    "<br>\n",
    "With only one function call, not two, per iteration, the midpoint rule offers a another advantage over the trapezoidal rule\n",
    "</div>\n",
    "\n",
    "<div class=\"alert alert-success\">\n",
    "**Aside:**\n",
    "<br>\n",
    "It turns out the midpoint rule is the leap-frog method, just in integral form!\n",
    "<br><br>\n",
    "Can you see how? Consider the first order differential equation $y'(x)=f(y(x),x)$; try integrating the left hand side using the fundamental theorem of calculus, and integrating the right hand side using the midpoint approximation. What do you get?\n",
    "</div>\n",
    "\n",
    "#### Discrete $x$ grids and functions\n",
    "\n",
    "For an equally spaced discrete $x$ grid $$x_0,x_1,\\dots,x_{N-1}$$ where $$x_0=a,~~x_{N-1}=b,~~x_{n+1}-x_n=\\Delta x$$ then the midpoint rule can be written\n",
    "\n",
    "\\begin{align}\n",
    "\t\\boxed{\\int_a^b f(x)~dx \\approx \\Delta x \\sum_{n=0}^{N-1}f\\left(\\frac{x_{n-1}+x_n}{2}\\right)}\n",
    "\\end{align}\n",
    "\n",
    "as $(x_{n-1}+x_n)/2$ provides the midpoint between the $n$th and $(n-1)$th grid position.\n",
    "\n",
    "However, unlike with the trapezoidal rule, if only a discretised integrand $f(x_n)=f_n$ is provided, *and the function $f(x)$ is unknown*, then it is *impossible* to use the midpoint method, as you cannot accurately determine the function value at the midpoint.\n",
    "\n",
    "## Global Error\n",
    "\n",
    "Multiplying the local approximation error by $N=(b-a)/\\Delta x$, and again letting $M_2=\\max_{x\\in[a,b]}|f''(x)|$, we can find the upper bound of the absolute value of the total error $|E_M|$:\n",
    "\n",
    "\\begin{align}\n",
    "\t\\boxed{|E_M| \\leq \\frac{b-a}{24}\\Delta x^2 M_2}\n",
    "\\end{align}\n",
    "\n",
    "Thus the midpoint method is a **second order method**, and, when compared to the trapezoidal rule we *generally* find that $$|E_M|\\approx \\frac{1}{2}|E_T|$$\n",
    "\n",
    "However, it is important to note that our expressions for $E_M$ and $E_T$ are given as *upper bounds*, so this error relationship does not always hold -- whilst for some functions we have the exact statement $E_M=-\\frac{1}{2}E_T$, other functions can be constructed such that $E_M>E_T$."
   ]
  },
  {
   "cell_type": "markdown",
   "metadata": {},
   "source": [
    "# Simpson's Rule\n",
    "\n",
    "Looking at the trapezoidal and midpoint approximation, you may notice that it's relatively easy to cancel out the *local* errors by adding them in a simple linear combination:\n",
    "\n",
    "\\begin{align}\n",
    "\t2LE_M + LE_T = 2\\left(\\frac{1}{24}\\delta x^3 f''(x)\\right) - \\frac{1}{12}\\delta x^2 f''(x) =0\n",
    "\\end{align}\n",
    "\n",
    "It follows that by combining these two methods in the same way, we should end up with a higher order integral approximation. Let's give this a go, by considering an integral\n",
    "\n",
    "\\begin{align}\n",
    "\tI=\\int_{x_0}^{x_0+2\\delta x} f(\\xi)~d\\xi\n",
    "\\end{align}\n",
    "\n",
    "Note that we have doubled the size of our interval, now of size $2\\delta x$ -- this simply allows us to have a well defined 'midpoint' $x_0+\\delta x$ which we can use for the midpoint rule. The midpoint rule and trapezoidal rule applied to $I$ therefore give:\n",
    "\n",
    "\\begin{align*}\n",
    "\tM &= 2\\delta x f(x_0+\\delta x)\\\\\n",
    "\tT &= \\frac{1}{2}(2\\delta x) [f(x_0)+f(x_0+2\\delta x)] = \\delta x[f(x_0)+f(x_0+2\\delta x)]\n",
    "\\end{align*}\n",
    "\n",
    "We can now combine $M$ and $T$ using the 'magic ratio' $2M+T$ from to approximate $I$ whilst eliminating the third order error terms:\n",
    "\n",
    "\\begin{align}\n",
    "\tI = \\frac{1}{3}(2I+I) &\\approx \\frac{1}{3}(2M+T)= \\frac{1}{3}\\delta x[f(x_0)+4f(x_0+\\delta x)+f(x_0+2\\delta x)]\n",
    "\\end{align}\n",
    "\n",
    "This is the well-known Simpson's rule:\n",
    "\n",
    "\\begin{align}\n",
    "\t\\boxed{\\int_{x_0}^{x_0+2\\delta x} f(\\xi)~d\\xi\\approx \\frac{1}{3}\\delta x[f(x_0)+4f(x_0+\\delta x)+f(x_0+2\\delta x)]}\n",
    "\\end{align}\n",
    "\n",
    "To see just *how* much more accurate Simpson's rule is, we can expand both sides of Simpson's rule as Taylor series expansions of $\\delta x$, giving an *local* error term of\n",
    "\n",
    "\\begin{align}\n",
    "\tLE_S = -\\frac{1}{90}\\delta x^5 f''''(x_0)\n",
    "\\end{align}\n",
    "\n",
    "i.e. the local error is two orders of magnitude smaller than the trapezoidal and midpoint rule!\n",
    "\n",
    "\n",
    "## Geometric interpretation\n",
    "\n",
    "![image](https://i.imgur.com/HXGVia5.png)\n",
    "\n",
    "Here you can see the geometric interpretation of Simpsons's rule. Note that the integrand $f(x)$ (in blue) is being approximated by a **quadratic polynomial** $P_2(x)$ (in red), which is found by interpolating between the three points $x_0$, $x_0+\\delta x$, and $x_0+2\\delta x$.\n"
   ]
  },
  {
   "cell_type": "markdown",
   "metadata": {
    "collapsed": true
   },
   "source": [
    "## Composite Simpson's Rule\n",
    "\n",
    "For finite intervals, we need to apply Simpson's rule successively $N$ times in order to accurately approximate the integral (as in previous sections). This gives rise to the composite Simpson's rule:\n",
    "\n",
    "\\begin{align*}\n",
    "\t\\int_a^b f(x)~dx&\\approx \\frac{1}{3}\\Delta x [f(a) + 4 f(a+\\Delta x) + f(a+2\\Delta x) + f(a+2\\Delta x) + 4 f(a+3\\Delta x) + f(a+4\\Delta x)\\\\\n",
    "\t&\\hspace{2cm} + \\cdots + f(a+(N-2)\\Delta x) + 4 f(a+(N-1)\\Delta x) + f(b)]\\\\[5pt]\n",
    "\t&\\approx \\frac{1}{3}\\Delta x [f(a) + 4f(a+\\Delta x)+2f(a+2\\Delta x)+\\cdots +4f(a+(N-1)\\Delta x)+f(b)]\n",
    "\\end{align*}\n",
    "\n",
    "Or, in summation notation,\n",
    "\\begin{align*}\n",
    "\t\\boxed{\\int_a^b f(x)~dx\\approx \\frac{1}{3}\\Delta x \\left[ f(a) + 2\\sum_{n=1}^{N/2-1} f(a+ 2n\\Delta x) + 4\\sum_{n=1}^{N/2} f(a+ (2n-1)\\Delta x) + f(b) \\right]}\n",
    "\\end{align*}\n",
    "Note that, unlike the midpoint and trapezoidal rules, we require $N$ be **even** for Simpson's Rule. This is due to the restriction that three points are required for the quadratic interpolation for each 'interval'.\n",
    "\n",
    "### Discrete $x$ grids and functions\n",
    "\n",
    "For an equally spaced discrete $x$ grid $$x_0,x_1,\\dots,x_{N-1}$$ where $$x_0=a,~~x_{N-1}=b,~~x_{n+1}-x_n=\\Delta x$$ then Simpson's rule can be written\n",
    "\n",
    "\\begin{align*}\n",
    "\t\\boxed{\\int_a^b f(x)~dx \\approx \\frac{1}{3}\\Delta x \\left[ f(x_0) + 2\\sum_{n=1}^{N/2-1} f(x_{2n}) + 4\\sum_{n=1}^{N/2} f(x_{2n-1}) + f(x_{N-1}) \\right]}\n",
    "\\end{align*}\n",
    "\n",
    "This expression can be also be used for an equally spaced discrete $f$ grid where $f(x_n)=f_n$, by making the appropriate substitutions above.\n",
    "\n",
    "## Global Error\n",
    "\n",
    "Like the midpoint and trapezoidal rules, we can determine an upper bound to the global composite error. Multiplying the local approximation error by $(b-a)/(2\\Delta x)$ (since each iteration of the Simpson's rule takes place over an interval of size $2\\Delta x$), and this time letting $M_4=\\max_{x\\in[a,b]}|f^{(4)}(x)|$, the upper bound of the absolute value of the total error is\n",
    "\n",
    "\\begin{align}\n",
    "\t\\boxed{|E_S|\\leq \\frac{b-a}{180}\\Delta x^4 M_4}\n",
    "\\end{align}\n",
    "\n",
    "i.e. Simpson's rule is a **fourth order method**."
   ]
  },
  {
   "cell_type": "markdown",
   "metadata": {},
   "source": [
    "---\n",
    "<div class=\"alert alert-info\">\n",
    "**Problem 4: Normalisation**\n",
    "<br>\n",
    "The wavefunction $\\psi(x)$ of a quantum system, determined by solving the Schrodinger equation, satisfies the [Born rule](https://en.wikipedia.org/wiki/Born_rule). This states that the absolute value squared of the wavefunction, $|\\psi(x)|^2$, provides the probability distribution of the system.\n",
    "<br><br>\n",
    "As such, we require the wavefunction to be **normalised**: $$\\int_{-\\infty}^{\\infty}|\\psi(x)|^2~dx=1$$\n",
    "Or, using bra-ket notation where $\\psi(x)=\\left\\langle x \\middle|\\psi\\right\\rangle$, $$\\left\\langle \\psi \\middle| \\psi\\right\\rangle = \\int_{-\\infty}^{\\infty}\\psi(x)^*\\psi(x)~dx=1$$\n",
    "<br><br>\n",
    "Below, I have provided a wavefunction for the ground state of the 1D simple harmonic oscillator, as well as the $x$ grid it has been discretised over.\n",
    "</div>"
   ]
  },
  {
   "cell_type": "code",
   "execution_count": 70,
   "metadata": {
    "collapsed": false
   },
   "outputs": [
    {
     "data": {
      "text/plain": [
       "[<matplotlib.lines.Line2D at 0x7f7962f43978>]"
      ]
     },
     "execution_count": 70,
     "metadata": {},
     "output_type": "execute_result"
    },
    {
     "data": {
      "image/png": "[encoded data removed]",
      "text/plain": [
       "<matplotlib.figure.Figure at 0x7f7963358278>"
      ]
     },
     "metadata": {},
     "output_type": "display_data"
    }
   ],
   "source": [
    "dx = 0.01\n",
    "x = np.arange(-5,5+dx,dx)\n",
    "psi = np.exp(-x**2/2)\n",
    "\n",
    "plt.plot(x,psi)"
   ]
  },
  {
   "cell_type": "markdown",
   "metadata": {},
   "source": [
    "<div class=\"alert alert-info\">\n",
    "<ol>\n",
    "<li>Write a Python function that accepts a Numpy array representing a discretised function, and the $x$-grid spacing, and returns the integral using Simpson's rule.</li>\n",
    "<li>Apply the function to the absolute value squared of the wavefunction provided. Is it normalised? If not, normalise it, and apply your Simpson's rule function to verify that it is now normalised.</li>\n",
    "</ol>\n",
    "</div>"
   ]
  },
  {
   "cell_type": "code",
   "execution_count": 77,
   "metadata": {
    "collapsed": true
   },
   "outputs": [],
   "source": [
    "def simpsons(f,dx):\n",
    "    return (dx/3) * (f[0] + 2*np.sum(f[2:-1:2]) + 4*np.sum(f[1:-1:2]) + f[-1] )"
   ]
  },
  {
   "cell_type": "code",
   "execution_count": 78,
   "metadata": {
    "collapsed": false
   },
   "outputs": [
    {
     "name": "stdout",
     "output_type": "stream",
     "text": [
      "1.7724538509\n",
      "0.751125544466\n"
     ]
    }
   ],
   "source": [
    "A = simpsons(np.abs(psi)**2,dx)\n",
    "print(A)\n",
    "print(1/np.sqrt(A))"
   ]
  },
  {
   "cell_type": "code",
   "execution_count": 79,
   "metadata": {
    "collapsed": true
   },
   "outputs": [],
   "source": [
    "psiNorm = psi/np.sqrt(A)"
   ]
  },
  {
   "cell_type": "code",
   "execution_count": 80,
   "metadata": {
    "collapsed": false
   },
   "outputs": [
    {
     "data": {
      "text/plain": [
       "0.99999999999999989"
      ]
     },
     "execution_count": 80,
     "metadata": {},
     "output_type": "execute_result"
    }
   ],
   "source": [
    "simpsons(np.abs(psiNorm)**2,dx)"
   ]
  },
  {
   "cell_type": "code",
   "execution_count": 81,
   "metadata": {
    "collapsed": false
   },
   "outputs": [
    {
     "data": {
      "text/plain": [
       "[<matplotlib.lines.Line2D at 0x7f7962e92a20>]"
      ]
     },
     "execution_count": 81,
     "metadata": {},
     "output_type": "execute_result"
    },
    {
     "data": {
      "image/png": "[encoded data removed]",
      "text/plain": [
       "<matplotlib.figure.Figure at 0x7f7962ef7940>"
      ]
     },
     "metadata": {},
     "output_type": "display_data"
    }
   ],
   "source": [
    "plt.plot(x,psiNorm)"
   ]
  },
  {
   "cell_type": "markdown",
   "metadata": {},
   "source": [
    "# NumPy functions"
   ]
  },
  {
   "cell_type": "markdown",
   "metadata": {},
   "source": [
    "Like with differentiation, NumPy and SciPy provides us with some useful functions to apply numerical integration without us having to worry about the underlying algorithm (although, it is still important to know how the different underlying techniques work!).\n",
    "\n",
    "For example, to apply the composite trapezoidal rule, you can use [`numpy.trapz`](https://docs.scipy.org/doc/numpy-1.13.0/reference/generated/numpy.trapz.html). Alternatively, to apply the composite Simpson's rule, use [`scipy.integrate.simps`](https://docs.scipy.org/doc/scipy/reference/generated/scipy.integrate.simps.html#scipy.integrate.simps).\n",
    "\n",
    "For more details, see\n",
    "* https://docs.scipy.org/doc/scipy/reference/tutorial/integrate.html\n",
    "* https://docs.scipy.org/doc/scipy/reference/integrate.html#module-scipy.integrate"
   ]
  },
  {
   "cell_type": "code",
   "execution_count": null,
   "metadata": {
    "collapsed": true
   },
   "outputs": [],
   "source": []
  }
 ],
 "metadata": {
  "kernelspec": {
   "display_name": "Python 3",
   "language": "python",
   "name": "python3"
  },
  "language_info": {
   "codemirror_mode": {
    "name": "ipython",
    "version": 3
   },
   "file_extension": ".py",
   "mimetype": "text/x-python",
   "name": "python",
   "nbconvert_exporter": "python",
   "pygments_lexer": "ipython3",
   "version": "3.4.3"
  },
  "toc": {
   "nav_menu": {},
   "number_sections": true,
   "sideBar": true,
   "skip_h1_title": false,
   "toc_cell": false,
   "toc_position": {},
   "toc_section_display": "block",
   "toc_window_display": false
  }
 },
 "nbformat": 4,
 "nbformat_minor": 2
}
